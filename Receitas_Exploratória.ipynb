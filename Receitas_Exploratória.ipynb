{
 "cells": [
  {
   "cell_type": "markdown",
   "metadata": {},
   "source": [
    "# <font color='blue'>Análise Receitas das Cidades de Santos, Cubatão, Guarujá, São Vicente e Praia Grande</font>"
   ]
  },
  {
   "cell_type": "code",
   "execution_count": 1,
   "metadata": {},
   "outputs": [],
   "source": [
    "#Importação das Bibliotecas \n",
    "import pandas as pd\n",
    "import numpy as np\n",
    "import matplotlib.pyplot as plt\n",
    "%matplotlib inline\n",
    "# import locale\n",
    "# locale.setlocale(locale.LC_ALL, '')"
   ]
  },
  {
   "cell_type": "markdown",
   "metadata": {},
   "source": [
    "## Importação das bases do TCE"
   ]
  },
  {
   "cell_type": "code",
   "execution_count": 2,
   "metadata": {},
   "outputs": [],
   "source": [
    "# Carga do DataSet de Santos \n",
    "df_santos = pd.read_csv('/media/joao/DATA/TCE/Bases/R_Santos_2018.csv', sep=';')\n",
    "\n",
    "# Carga do DataSet de Cubatão \n",
    "df_cubatao = pd.read_csv('/media/joao/DATA/TCE/Bases/R_Cubatao_2018.csv', sep=';')\n",
    "\n",
    "# Carga do DataSet de Guarujá\n",
    "df_guaruja = pd.read_csv('/media/joao/DATA/TCE/Bases/R_Guaruja_2018.csv', sep=';')\n",
    "    \n",
    "#Carga do DataSet de São Vicente\n",
    "df_saovicente = pd.read_csv('/media/joao/DATA/TCE/Bases/R_SaoVicente_2018.csv', sep=';')\n",
    "\n",
    "#Carga do DataSet de São Vicente\n",
    "df_praia_grande = pd.read_csv('/media/joao/DATA/TCE/Bases/R_Praia_Grande_2018.csv', sep=';')"
   ]
  },
  {
   "cell_type": "markdown",
   "metadata": {},
   "source": [
    "## Tratamento dos DataSets"
   ]
  },
  {
   "cell_type": "code",
   "execution_count": 3,
   "metadata": {},
   "outputs": [],
   "source": [
    "#Padronização de tempo entre as bases - Todas com Segundo Semestre,\n",
    "#pois santos está somente com segundo semestre. \n",
    "\n",
    "df_cubatao = df_cubatao[df_cubatao[\"mes_referencia\"] > 5]\n",
    "df_guaruja = df_guaruja[df_guaruja[\"mes_referencia\"] > 5]\n",
    "df_saovicente = df_saovicente[df_saovicente[\"mes_referencia\"] > 5]\n",
    "df_praia_grande = df_praia_grande[df_praia_grande[\"mes_referencia\"] > 5]\n",
    "\n",
    "#Consolidação de todos os DataSets  \n",
    "df_receitas = pd.concat([df_santos, df_cubatao, df_guaruja, df_saovicente, df_praia_grande])\n",
    "\n",
    "#Número de linhas e Colunas da base final\n",
    "# df_receitas.shape\n",
    "\n",
    "# #Remove notação cientifica\n",
    "pd.set_option('display.float_format', lambda x: '%.2f' % x) \n"
   ]
  },
  {
   "cell_type": "markdown",
   "metadata": {},
   "source": [
    "## Comparação de Receitas entre os municipios"
   ]
  },
  {
   "cell_type": "code",
   "execution_count": 4,
   "metadata": {},
   "outputs": [
    {
     "data": {
      "text/html": [
       "<div>\n",
       "<style scoped>\n",
       "    .dataframe tbody tr th:only-of-type {\n",
       "        vertical-align: middle;\n",
       "    }\n",
       "\n",
       "    .dataframe tbody tr th {\n",
       "        vertical-align: top;\n",
       "    }\n",
       "\n",
       "    .dataframe thead th {\n",
       "        text-align: right;\n",
       "    }\n",
       "</style>\n",
       "<table border=\"1\" class=\"dataframe\">\n",
       "  <thead>\n",
       "    <tr style=\"text-align: right;\">\n",
       "      <th></th>\n",
       "      <th>vl_arrecadacao</th>\n",
       "    </tr>\n",
       "    <tr>\n",
       "      <th>ds_municipio</th>\n",
       "      <th></th>\n",
       "    </tr>\n",
       "  </thead>\n",
       "  <tbody>\n",
       "    <tr>\n",
       "      <th>São Vicente</th>\n",
       "      <td>463023274.77</td>\n",
       "    </tr>\n",
       "    <tr>\n",
       "      <th>Cubatão</th>\n",
       "      <td>550015588.15</td>\n",
       "    </tr>\n",
       "    <tr>\n",
       "      <th>Guarujá</th>\n",
       "      <td>645326188.92</td>\n",
       "    </tr>\n",
       "    <tr>\n",
       "      <th>Praia Grande</th>\n",
       "      <td>679500506.84</td>\n",
       "    </tr>\n",
       "    <tr>\n",
       "      <th>Santos</th>\n",
       "      <td>2596683870.14</td>\n",
       "    </tr>\n",
       "  </tbody>\n",
       "</table>\n",
       "</div>"
      ],
      "text/plain": [
       "              vl_arrecadacao\n",
       "ds_municipio                \n",
       "São Vicente     463023274.77\n",
       "Cubatão         550015588.15\n",
       "Guarujá         645326188.92\n",
       "Praia Grande    679500506.84\n",
       "Santos         2596683870.14"
      ]
     },
     "execution_count": 4,
     "metadata": {},
     "output_type": "execute_result"
    }
   ],
   "source": [
    "#Comparação de Receitas entre os municipios\n",
    "\n",
    "#Total de receita pos cidades\n",
    "df_receitas_plot_bar = pd.DataFrame(df_receitas.groupby('ds_municipio')['vl_arrecadacao'].sum())\n",
    "df_receitas_plot_bar.sort_values('vl_arrecadacao')"
   ]
  },
  {
   "cell_type": "markdown",
   "metadata": {},
   "source": [
    "## Gráfico de Barras de Receitas entre as cidades"
   ]
  },
  {
   "cell_type": "code",
   "execution_count": 27,
   "metadata": {},
   "outputs": [
    {
     "data": {
      "text/plain": [
       "<BarContainer object of 5 artists>"
      ]
     },
     "execution_count": 27,
     "metadata": {},
     "output_type": "execute_result"
    },
    {
     "data": {
      "image/png": "[encoded data removed]",
      "text/plain": [
       "<Figure size 432x288 with 1 Axes>"
      ]
     },
     "metadata": {
      "needs_background": "light"
     },
     "output_type": "display_data"
    }
   ],
   "source": [
    "# Gráfico de Barras de Receitas entre as cidades\n",
    "plt.bar(df_receitas_plot_bar.index.values, df_receitas_plot_bar['vl_arrecadacao'])"
   ]
  },
  {
   "cell_type": "markdown",
   "metadata": {},
   "source": [
    "## Qual é a maior fonte de recursos dos municipios?."
   ]
  },
  {
   "cell_type": "code",
   "execution_count": 28,
   "metadata": {},
   "outputs": [
    {
     "data": {
      "text/plain": [
       "ds_fonte_recurso\n",
       "01 - TESOURO                                                                  3107678691.53\n",
       "02 - TRANSFERÊNCIAS E CONVÊNIOS ESTADUAIS-VINCULADOS                           551488901.42\n",
       "03 - RECURSOS PRÓPRIOS DE FUNDOS ESPECIAIS DE DESPESA-VINCULADOS               162890798.36\n",
       "04 - RECURSOS PRÓPRIOS DA ADMINISTRAÇÃO INDIRETA                               650689839.34\n",
       "05 - TRANSFERÊNCIAS E CONVÊNIOS FEDERAIS-VINCULADOS                            408085265.46\n",
       "06 - OUTRAS FONTES DE RECURSOS                                                   7687220.01\n",
       "07 - OPERAÇÕES DE CRÉDITO                                                       30529004.43\n",
       "12 - TRANSFERÊNCIAS E CONVÊNIOS FEDERAIS-VINCULADOS - EXERCICIOS ANTERIORES     15499708.27\n",
       "Name: vl_arrecadacao, dtype: float64"
      ]
     },
     "execution_count": 28,
     "metadata": {},
     "output_type": "execute_result"
    }
   ],
   "source": [
    "# Qual é a maior fonte de recursos dos municipios?.\n",
    "\n",
    "df_recursos = df_receitas.set_index('ds_fonte_recurso')\n",
    "df_recursos = df_recursos.groupby(level = 'ds_fonte_recurso').sum()\n",
    "df_recursos['vl_arrecadacao']"
   ]
  },
  {
   "cell_type": "markdown",
   "metadata": {},
   "source": [
    "## Receitas das cidades por recurso"
   ]
  },
  {
   "cell_type": "code",
   "execution_count": 29,
   "metadata": {},
   "outputs": [
    {
     "data": {
      "text/plain": [
       "ds_fonte_recurso                                                             ds_municipio\n",
       "01 - TESOURO                                                                 Cubatão         339121862.55\n",
       "                                                                             Guarujá         439261048.35\n",
       "                                                                             Praia Grande    408281702.56\n",
       "                                                                             Santos         1681888938.16\n",
       "                                                                             São Vicente     239125139.91\n",
       "02 - TRANSFERÊNCIAS E CONVÊNIOS ESTADUAIS-VINCULADOS                         Cubatão          38402937.67\n",
       "                                                                             Guarujá          69044364.49\n",
       "                                                                             Praia Grande    129750296.32\n",
       "                                                                             Santos          207726772.24\n",
       "                                                                             São Vicente     106564530.70\n",
       "03 - RECURSOS PRÓPRIOS DE FUNDOS ESPECIAIS DE DESPESA-VINCULADOS             Cubatão         125859648.97\n",
       "                                                                             Guarujá          23793780.66\n",
       "                                                                             Praia Grande      1894031.04\n",
       "                                                                             Santos            9549056.82\n",
       "                                                                             São Vicente       1794280.87\n",
       "04 - RECURSOS PRÓPRIOS DA ADMINISTRAÇÃO INDIRETA                             Cubatão          23866126.97\n",
       "                                                                             Guarujá          44671625.37\n",
       "                                                                             Praia Grande     59340664.38\n",
       "                                                                             Santos          472919087.87\n",
       "                                                                             São Vicente      49892334.75\n",
       "05 - TRANSFERÊNCIAS E CONVÊNIOS FEDERAIS-VINCULADOS                          Cubatão          21265011.99\n",
       "                                                                             Guarujá          68305027.14\n",
       "                                                                             Praia Grande     80233311.19\n",
       "                                                                             Santos          189127856.46\n",
       "                                                                             São Vicente      49154058.68\n",
       "06 - OUTRAS FONTES DE RECURSOS                                               Cubatão           1500000.00\n",
       "                                                                             Guarujá            160949.71\n",
       "                                                                             Santos            2785500.47\n",
       "                                                                             São Vicente       3240769.83\n",
       "07 - OPERAÇÕES DE CRÉDITO                                                    Guarujá             89393.20\n",
       "                                                                             Praia Grande          501.35\n",
       "                                                                             Santos           17186949.85\n",
       "                                                                             São Vicente      13252160.03\n",
       "12 - TRANSFERÊNCIAS E CONVÊNIOS FEDERAIS-VINCULADOS - EXERCICIOS ANTERIORES  Santos           15499708.27\n",
       "Name: vl_arrecadacao, dtype: float64"
      ]
     },
     "execution_count": 29,
     "metadata": {},
     "output_type": "execute_result"
    }
   ],
   "source": [
    "# Receitas das cidades por recurso\n",
    "\n",
    "df_recursos_municipio = df_receitas.set_index(['ds_fonte_recurso', 'ds_municipio'])\n",
    "df_recursos_municipio = df_recursos_municipio.groupby(level = ['ds_fonte_recurso', 'ds_municipio']) \n",
    "df_recursos_municipio['vl_arrecadacao'].sum() "
   ]
  },
  {
   "cell_type": "markdown",
   "metadata": {},
   "source": [
    "## Evolução das Receitas, por mês nas cidades da Região"
   ]
  },
  {
   "cell_type": "code",
   "execution_count": 30,
   "metadata": {},
   "outputs": [
    {
     "data": {
      "text/plain": [
       "[<matplotlib.lines.Line2D at 0x7f0cd285d438>]"
      ]
     },
     "execution_count": 30,
     "metadata": {},
     "output_type": "execute_result"
    },
    {
     "data": {
      "image/png": "[encoded data removed]",
      "text/plain": [
       "<Figure size 432x288 with 1 Axes>"
      ]
     },
     "metadata": {
      "needs_background": "light"
     },
     "output_type": "display_data"
    }
   ],
   "source": [
    "# Evolução das Receitas, por mês nas cidades da Região\n",
    "df_receitas_mensal = df_receitas\n",
    "df_receitas_mensal.dtypes\n",
    "\n",
    "df_receitas_mensal = df_receitas_mensal.set_index(['mes_referencia', 'mes_ref_extenso'])\n",
    "\n",
    "df_receitas_mensal = df_receitas_mensal.groupby(level = ['mes_referencia','mes_ref_extenso'])\n",
    "df_receitas_mensal.sum()\n",
    "df_receitas_mensal_plot = pd.DataFrame(df_receitas_mensal['vl_arrecadacao'].sum())\n",
    "df_receitas_mensal_plot = df_receitas_mensal_plot.reset_index()\n",
    "plt.plot(df_receitas_mensal_plot.mes_ref_extenso,df_receitas_mensal_plot['vl_arrecadacao'])"
   ]
  },
  {
   "cell_type": "markdown",
   "metadata": {},
   "source": [
    "## Cidades que apresentaram receitas com Royalties da Exploração do Petróleo e Gás Natural"
   ]
  },
  {
   "cell_type": "code",
   "execution_count": 31,
   "metadata": {},
   "outputs": [
    {
     "data": {
      "image/png": "[encoded data removed]",
      "text/plain": [
       "<Figure size 432x288 with 1 Axes>"
      ]
     },
     "metadata": {
      "needs_background": "light"
     },
     "output_type": "display_data"
    }
   ],
   "source": [
    "# Cidades que apresentaram receitas com Royalties da Exmploração do Petróleo e Gás Natural\n",
    "\n",
    "#Subset dos Royalties\n",
    "df_petroleo = df_receitas[df_receitas[\"ds_cd_aplicacao_fixo\"] == '140 - ROYALTIES DA EXPLORAÇÃO DO PETRÓLEO E GÁS NATURAL']\n",
    "\n",
    "\n",
    "#Indice por cidade e mês\n",
    "df_petroleo_cidades = df_petroleo.set_index(['ds_municipio', 'mes_referencia'])\n",
    "df_petroleo_cidades = df_petroleo_cidades.groupby(level = ['ds_municipio', 'mes_referencia'])['vl_arrecadacao'].sum()\n",
    "\n",
    "df_plot_petroleo = pd.DataFrame(df_petroleo_cidades)  #Converte para Data Frame\n",
    "df_plot_petroleo = df_plot_petroleo.reset_index()     #Reset Index\n",
    "\n",
    "#Divisão do subset por cidade, para plotar no gráfico \n",
    "df_plot_petroleo_guaruja = df_plot_petroleo[df_plot_petroleo['ds_municipio'] == \"Guarujá\"]\n",
    "df_plot_petroleo_guaruja \n",
    "\n",
    "df_plot_petroleo_saovicente = df_plot_petroleo[df_plot_petroleo['ds_municipio'] == \"São Vicente\"]\n",
    "df_plot_petroleo_saovicente\n",
    "\n",
    "\n",
    "plt.plot(df_plot_petroleo_saovicente['mes_referencia'],df_plot_petroleo_saovicente['vl_arrecadacao'], color='g', label = \"São Vicente\",linewidth=3.0)\n",
    "plt.plot(df_plot_petroleo_guaruja['mes_referencia'],df_plot_petroleo_guaruja['vl_arrecadacao'], color='orange', label = \"Guarujá\", linewidth=3.0)\n",
    "plt.xlabel('Mês')\n",
    "plt.ylabel('Receita')\n",
    "plt.title('Receitas dos Royalties da Exploração do Petróleo e Gás Natural (2018)')\n",
    "plt.legend()\n",
    "plt.show()\n"
   ]
  },
  {
   "cell_type": "code",
   "execution_count": 32,
   "metadata": {},
   "outputs": [
    {
     "data": {
      "image/png": "[encoded data removed]",
      "text/plain": [
       "<Figure size 432x288 with 1 Axes>"
      ]
     },
     "metadata": {
      "needs_background": "light"
     },
     "output_type": "display_data"
    }
   ],
   "source": [
    "df_multas = df_receitas[df_receitas[\"ds_cd_aplicacao_fixo\"] == '450 - TRÂNSITO - FISCALIZAÇÃO']\n",
    "# df_cidades = df_cidades.groupby(['ds_municipio', 'ds_orgao', 'mes_referencia'])\n",
    "df_multas = df_multas.groupby(['ds_municipio', 'mes_referencia'])\n",
    "df_multas = pd.DataFrame(df_multas['vl_arrecadacao'].sum())\n",
    "df_multas = df_multas.reset_index()\n",
    "\n",
    "\n",
    "df_multas_cubatao = df_multas[df_multas['ds_municipio'] == 'Cubatão']\n",
    "df_multas_saovicente = df_multas[df_multas['ds_municipio'] == 'São Vicente']\n",
    "\n",
    "\n",
    "plt.plot(df_multas_cubatao['mes_referencia'],df_multas_cubatao['vl_arrecadacao'], color='Blue', label='Cubatão', linewidth=3.0)\n",
    "plt.plot(df_multas_saovicente['mes_referencia'],df_multas_saovicente['vl_arrecadacao'], color='red', label = \"São Vicente\", linewidth=3.0)\n",
    "plt.xlabel('Mês')\n",
    "plt.ylabel('Receita')\n",
    "plt.title('Receitas de Multas 2018')\n",
    "plt.legend()\n",
    "plt.show()\n"
   ]
  },
  {
   "cell_type": "code",
   "execution_count": 52,
   "metadata": {},
   "outputs": [],
   "source": [
    "#Transforma os valores de para moeda e um data set'\n",
    "# df_cubatao['($) millions'] = ['${:,.2f}MM'.format(x) for x in df_cubatao['vl_arrecadacao']/1000000]\n",
    "\n",
    "# Formata a para o formato de moeda local.\n",
    "# vl_santos = locale.currency(myInput, symbol=False, grouping=True)\n",
    "# vl_santos"
   ]
  },
  {
   "cell_type": "code",
   "execution_count": null,
   "metadata": {},
   "outputs": [],
   "source": []
  }
 ],
 "metadata": {
  "kernelspec": {
   "display_name": "Python 3",
   "language": "python",
   "name": "python3"
  },
  "language_info": {
   "codemirror_mode": {
    "name": "ipython",
    "version": 3
   },
   "file_extension": ".py",
   "mimetype": "text/x-python",
   "name": "python",
   "nbconvert_exporter": "python",
   "pygments_lexer": "ipython3",
   "version": "3.7.1"
  }
 },
 "nbformat": 4,
 "nbformat_minor": 2
}
